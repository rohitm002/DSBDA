{
 "cells": [
  {
   "cell_type": "code",
   "execution_count": null,
   "id": "3b39e233-5699-4940-a115-ff65ea59eae6",
   "metadata": {},
   "outputs": [],
   "source": []
  }
 ],
 "metadata": {
  "kernelspec": {
   "display_name": "",
   "name": ""
  },
  "language_info": {
   "name": ""
  }
 },
 "nbformat": 4,
 "nbformat_minor": 5
}
